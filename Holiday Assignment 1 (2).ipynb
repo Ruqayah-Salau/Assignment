{
 "cells": [
  {
   "cell_type": "markdown",
   "id": "37eafea8",
   "metadata": {},
   "source": [
    "EXERCISE 1"
   ]
  },
  {
   "cell_type": "markdown",
   "id": "13c06338",
   "metadata": {},
   "source": [
    "NO1"
   ]
  },
  {
   "cell_type": "code",
   "execution_count": 1,
   "id": "a96156c2",
   "metadata": {},
   "outputs": [
    {
     "name": "stdout",
     "output_type": "stream",
     "text": [
      "\ta\tb\tc\n"
     ]
    }
   ],
   "source": [
    "print(\"\\ta\\tb\\tc\")"
   ]
  },
  {
   "cell_type": "code",
   "execution_count": 2,
   "id": "55983ad1",
   "metadata": {},
   "outputs": [
    {
     "name": "stdout",
     "output_type": "stream",
     "text": [
      "\\\\\n"
     ]
    }
   ],
   "source": [
    "print(\"\\\\\\\\\")"
   ]
  },
  {
   "cell_type": "code",
   "execution_count": 3,
   "id": "6c79e850",
   "metadata": {},
   "outputs": [
    {
     "name": "stdout",
     "output_type": "stream",
     "text": [
      "'\n"
     ]
    }
   ],
   "source": [
    "print(\"'\")"
   ]
  },
  {
   "cell_type": "code",
   "execution_count": 4,
   "id": "d244e80d",
   "metadata": {},
   "outputs": [
    {
     "name": "stdout",
     "output_type": "stream",
     "text": [
      "\"\"\"\n"
     ]
    }
   ],
   "source": [
    "print(\"\\\"\\\"\\\"\")"
   ]
  },
  {
   "cell_type": "code",
   "execution_count": 7,
   "id": "98c32934",
   "metadata": {},
   "outputs": [
    {
     "name": "stdout",
     "output_type": "stream",
     "text": [
      "C:\n",
      "in\the downward spiral\n"
     ]
    }
   ],
   "source": [
    "print(\"C:\\nin\\the downward spiral\")"
   ]
  },
  {
   "cell_type": "markdown",
   "id": "14c26df5",
   "metadata": {},
   "source": [
    "NO2"
   ]
  },
  {
   "cell_type": "code",
   "execution_count": 9,
   "id": "262e4a26",
   "metadata": {},
   "outputs": [
    {
     "name": "stdout",
     "output_type": "stream",
     "text": [
      "/ \\ // \\\\ /// \\\\\\\n"
     ]
    }
   ],
   "source": [
    "print(\"/ \\ // \\\\\\\\ /// \\\\\\\\\\\\\")"
   ]
  },
  {
   "cell_type": "markdown",
   "id": "6a3099dd",
   "metadata": {},
   "source": [
    "NO3"
   ]
  },
  {
   "cell_type": "code",
   "execution_count": 14,
   "id": "7f15c4f1",
   "metadata": {},
   "outputs": [
    {
     "name": "stdout",
     "output_type": "stream",
     "text": [
      "This quote is from Irish poet Oscar Wilde: \n",
      "\"Music makes one feel so romantic \n",
      "- at least it always gets on one's nerves – \n",
      "which is the same thing nowadays.\"\n"
     ]
    }
   ],
   "source": [
    "print('This quote is from Irish poet Oscar Wilde: \\n\"Music makes one feel so romantic \\n- at least it always gets on one\\'s nerves – \\nwhich is the same thing nowadays.\"')"
   ]
  },
  {
   "cell_type": "code",
   "execution_count": 22,
   "id": "75cf9a7a",
   "metadata": {},
   "outputs": [
    {
     "name": "stdout",
     "output_type": "stream",
     "text": [
      "A \"quoted\" String is \n",
      "'much' better if you learn \n",
      "the rules of \"escape sequences.\" \n",
      "Also, \"\" represents an empty String. \n",
      "Don't forget: use \" instead of \" ! \n",
      "'' is not the same as \"\n"
     ]
    }
   ],
   "source": [
    "print('A \"quoted\" String is \\n\\'much\\' better if you learn \\nthe rules of \"escape sequences.\" \\nAlso, \"\" represents an empty String. \\nDon\\'t forget: use \\\" instead of \" ! \\n\\'\\' is not the same as \"')"
   ]
  },
  {
   "cell_type": "markdown",
   "id": "ebe9e75f",
   "metadata": {},
   "source": [
    "NO5"
   ]
  },
  {
   "cell_type": "code",
   "execution_count": 24,
   "id": "56653129",
   "metadata": {},
   "outputs": [
    {
     "name": "stdout",
     "output_type": "stream",
     "text": [
      "1.8\n",
      "15\n",
      "37\n",
      "47\n",
      "9.6\n",
      "15.75\n",
      "-8\n",
      "9\n"
     ]
    }
   ],
   "source": [
    "print(9 / 5)\n",
    "print(695 % 20)\n",
    "print(7 + 6 * 5)\n",
    "print(7 * 6 + 5)\n",
    "print(248 % 100 / 5)\n",
    "print(6 * 3 - 9 / 4)\n",
    "print((5 - 7) * 4)\n",
    "print(6 + (18 % (17 - 12)))"
   ]
  },
  {
   "cell_type": "markdown",
   "id": "09173e13",
   "metadata": {},
   "source": [
    "EXERCISE 2"
   ]
  },
  {
   "cell_type": "code",
   "execution_count": 2,
   "id": "23490616",
   "metadata": {},
   "outputs": [
    {
     "name": "stdout",
     "output_type": "stream",
     "text": [
      "23\n"
     ]
    }
   ],
   "source": [
    "#1 Write a program that finds the maximum value of the given list, assuming that the list contains at least one element. \n",
    "def find_max_value(num_list):\n",
    "    max_value = num_list[0]\n",
    "\n",
    "    for num in num_list:\n",
    "        if num > max_value:\n",
    "            max_value = num\n",
    "\n",
    "    return max_value\n",
    "\n",
    "test_array = [2, 4, 7, 4, 23, 5, 1, 4, 8, 9]\n",
    "result = find_max_value(test_array)\n",
    "\n",
    "print(result)"
   ]
  },
  {
   "cell_type": "code",
   "execution_count": 7,
   "id": "4ec18f8f",
   "metadata": {},
   "outputs": [
    {
     "name": "stdout",
     "output_type": "stream",
     "text": [
      "24.6\n"
     ]
    }
   ],
   "source": [
    "#2 Write a program that calculates the average value of the given list. \n",
    "def avg_value(given_list):\n",
    "    average = sum(given_list)/len(given_list)\n",
    "    \n",
    "    return average\n",
    "test_list = [4, 7, 1, 5, 11, 53, 12, 46, 84, 23]\n",
    "result = avg_value(test_list)\n",
    "\n",
    "print(result)"
   ]
  },
  {
   "cell_type": "code",
   "execution_count": 9,
   "id": "9cc177ec",
   "metadata": {},
   "outputs": [
    {
     "name": "stdout",
     "output_type": "stream",
     "text": [
      "[5, 89, 45, 14, 53, 23, 45, 7, 6, 2]\n"
     ]
    }
   ],
   "source": [
    "#3 Write a program that prints the given list of integers in reverse order. \n",
    "def reverse_list(given_list):\n",
    "    reverse_lst = given_list[::-1]\n",
    "    \n",
    "    return reverse_lst\n",
    "test_list = [2, 6, 7, 45, 23, 53, 14, 45, 89, 5 ]\n",
    "result = reverse_list(test_list)\n",
    "\n",
    "print(result)"
   ]
  },
  {
   "cell_type": "code",
   "execution_count": 22,
   "id": "17012096",
   "metadata": {},
   "outputs": [
    {
     "name": "stdout",
     "output_type": "stream",
     "text": [
      "False\n",
      "None\n"
     ]
    }
   ],
   "source": [
    "#4 Write a program that accepts two lists of integers and prints true if each element in the first list is less than the element at the same index in the second list. Your program should print false if the lists are not the same length. \n",
    "def compare_list(lst1, lst2):\n",
    "    if len(lst1) != len(lst2):\n",
    "        print(\"False\")\n",
    "        return\n",
    "    \n",
    "    for i in range(len(lst1)):\n",
    "        if lst1[i] >= lst2[i]:\n",
    "            print(\"False\")\n",
    "            return\n",
    "    print(\"True\")\n",
    "list_1 = [4, 7, 1, 5, 11, 53, 12, 46, 84, 23 ]\n",
    "list_2 = [2, 6, 7, 45, 23, 53, 14, 45, 89, 5 ]\n",
    "result = compare_list(list_1, list_2)\n",
    "print(result)"
   ]
  },
  {
   "cell_type": "code",
   "execution_count": 28,
   "id": "3cee2abf",
   "metadata": {},
   "outputs": [
    {
     "name": "stdout",
     "output_type": "stream",
     "text": [
      "[7, 4, 1, 5, 11, 53, 12, 46, 84, 23]\n"
     ]
    }
   ],
   "source": [
    "#5 Write a program that accepts a list of integers and two indexes and swaps the elements at those indexes \n",
    "def swap_index(num_list, index_1, index_2):\n",
    "    if 0 <= index_1 < len(num_list) and 0 <= index_2 < len(num_list):\n",
    "        num_list[index_1], num_list[index_2] = num_list[index_2], num_list[index_1]\n",
    "        print(num_list)\n",
    "    else: \n",
    "        print(\"invalid input\")\n",
    "    return\n",
    "test_list = [4, 7, 1, 5, 11, 53, 12, 46, 84, 23 ]\n",
    "result = swap_index(test_list, 0, 1)"
   ]
  },
  {
   "cell_type": "code",
   "execution_count": 33,
   "id": "a9757663",
   "metadata": {},
   "outputs": [
    {
     "name": "stdout",
     "output_type": "stream",
     "text": [
      "[4, 7, 1, 5, 11, 53, 12, 46, 84, 23, 2, 6, 7, 45, 23, 53, 14, 45, 89, 5]\n"
     ]
    }
   ],
   "source": [
    "#6  Write a program that accepts two lists of integers and prints a new list containing all elements of the first list followed by all elements of the second. \n",
    "def merge_list(list1, list2):\n",
    "    new_list = list1 + list2\n",
    "    \n",
    "    return new_list\n",
    "list_1 = [4, 7, 1, 5, 11, 53, 12, 46, 84, 23 ]\n",
    "list_2 = [2, 6, 7, 45, 23, 53, 14, 45, 89, 5 ]\n",
    "result = merge_list(list_1, list_2)\n",
    "print(result)"
   ]
  },
  {
   "cell_type": "code",
   "execution_count": 42,
   "id": "2ac291cc",
   "metadata": {},
   "outputs": [
    {
     "name": "stdout",
     "output_type": "stream",
     "text": [
      "7\n"
     ]
    }
   ],
   "source": [
    "#7 Write a program that accepts a list of integers and an integer value as its parameters and prints the last index at which the value occurs in the list. The program should print –1 if the value is not found. For example, in the list [74, 85, 102, 99, 101, 85, 56], the last index of the value 85 is 5. \n",
    "def num_last_index(num_list, num):\n",
    "    if num not in num_list:\n",
    "        print(-1)\n",
    "        return\n",
    "    \n",
    "    last_index = -1\n",
    "    for i in range(len(num_list)):\n",
    "        if num_list[i] == num:\n",
    "            last_index = i\n",
    "            \n",
    "    print(last_index)    \n",
    "list_1 = [4, 7, 1, 4, 11, 53, 12, 4, 84, 23 ]\n",
    "result = num_last_index(list_1, 4)        "
   ]
  },
  {
   "cell_type": "markdown",
   "id": "fe8c31b4",
   "metadata": {},
   "source": [
    "#8 Write a program that prints the range of values in a list of integers. The range is defined as 1 more than the difference between the maximum and minimum values in the list. For example, if a list contains the values [36, 12, 25, 19, 46, 31, 22], the program should return 35. You may assume that the list has at least one element. \n",
    "def value_range(lst):\n",
    "    val_range = (max(lst) - min(lst)) + 1\n",
    "    \n",
    "    return val_range\n",
    "\n",
    "list_1 = [4, 7, 1, 4, 11, 53, 12, 4, 84, 23 ]\n",
    "result = value_range(list_1)\n",
    "print(result)"
   ]
  },
  {
   "cell_type": "code",
   "execution_count": 8,
   "id": "b0acb83c",
   "metadata": {},
   "outputs": [
    {
     "name": "stdout",
     "output_type": "stream",
     "text": [
      "6\n"
     ]
    }
   ],
   "source": [
    "#9 Write a program that accepts a list of integers, a minimum value, and a maximum value and prints the count of how many elements from the list fall between the minimum and maximum (inclusive). For example, in the list [14, 1, 22, 17, 36, 7, -43, 5], for minimum value 4 and maximum value 17, there are four elements whose values fall between 4 and 17. \n",
    "def count_betw(lst, mini, maxi):\n",
    "    count = 0\n",
    "    for x in lst:\n",
    "        if mini <= x <= maxi:\n",
    "            count = count + 1\n",
    "    return count\n",
    "    \n",
    "\n",
    "list_1 = [4, 7, 1, 4, 11, 53, 12, 4, 84, 23]\n",
    "min_value = 1\n",
    "max_value = 11\n",
    "result = count_betw(list_1, min_value, max_value )\n",
    "print(result)"
   ]
  },
  {
   "cell_type": "code",
   "execution_count": 12,
   "id": "dc777666",
   "metadata": {},
   "outputs": [
    {
     "name": "stdout",
     "output_type": "stream",
     "text": [
      "[84, 53, 23, 12, 11, 7, 4, 4, 4, 1]\n"
     ]
    }
   ],
   "source": [
    "#10  Write a program that accepts a list of real numbers and prints true if the list is in sorted (nondecreasing) order and false otherwise. For example, if lists named list1 and list2 store [16.1, 12.3, 22.2, 14.4] and [1.5, 4.3, 7.0, 19.5, 25.1, 46.2] respectively, the program should print false for list1 and true for list2 respectively. Assume the list has at least one element. A one-element list is sorted. \n",
    "def sort_list(lst):\n",
    "    sorted_list = sorted(lst, reverse = True)\n",
    "    \n",
    "    return sorted_list\n",
    "list_1 = [4, 7, 1, 4, 11, 53, 12, 4, 84, 23]\n",
    "result = sort_list(list_1)\n",
    "print(result)"
   ]
  },
  {
   "cell_type": "markdown",
   "id": "c9f9d7df",
   "metadata": {},
   "source": [
    "Exercise 3"
   ]
  },
  {
   "cell_type": "code",
   "execution_count": 16,
   "id": "350429bd",
   "metadata": {},
   "outputs": [
    {
     "name": "stdout",
     "output_type": "stream",
     "text": [
      "+----+\n",
      "\\    /\n",
      "/    \\\n",
      "\\    /\n",
      "/    \\\n",
      "\\    /\n",
      "/    \\\n",
      "+----+\n"
     ]
    }
   ],
   "source": [
    "#1 . Write a program to produce the following output using for loop \n",
    " #+----+ \n",
    " #\\    / \n",
    " #/    \\ \n",
    " #\\    / \n",
    " #/    \\ \n",
    " #\\    / \n",
    " #/    \\ \n",
    " #+----+\n",
    "    \n",
    "for i in range(5):\n",
    "    if i == 0 or i == 4:\n",
    "        print(\"+----+\")\n",
    "    else:\n",
    "        print(\"\\\\    /\")\n",
    "        print(\"/    \\\\\")"
   ]
  },
  {
   "cell_type": "code",
   "execution_count": 17,
   "id": "2c9663bb",
   "metadata": {},
   "outputs": [
    {
     "name": "stdout",
     "output_type": "stream",
     "text": [
      "**********\n",
      "**********\n",
      "**********\n",
      "**********\n",
      "**********\n"
     ]
    }
   ],
   "source": [
    "#2 Write a program to produce the following output using for loop \n",
    " #********** \n",
    " #********** \n",
    " #********** \n",
    " #********** \n",
    " #********** \n",
    "for i in range(5):\n",
    "    print('**********')"
   ]
  },
  {
   "cell_type": "code",
   "execution_count": 26,
   "id": "1966dace",
   "metadata": {},
   "outputs": [
    {
     "name": "stdout",
     "output_type": "stream",
     "text": [
      "1 2 4 30 -7 97 -4\n",
      "2 4 19 20 -3 94 14\n",
      "3 6 34 10 1 91 32\n",
      "4 8 49 0 5 88 50\n",
      "5 10 64 -10 9 85 68\n",
      "6 12 79 -20 13 82 86\n"
     ]
    }
   ],
   "source": [
    "#3  Complete the code for the following for loop: so that it prints the following numbers, one per line:   \n",
    "for i in range(1,7):\n",
    "    a = i\n",
    "    b = i * 2\n",
    "    c = i * 15 - 11\n",
    "    d = 40 - 10 * i\n",
    "    e = 4 * i - 11\n",
    "    f = 97 - 3 * (i - 1)\n",
    "    g = (18 * (i - 1)) - 4\n",
    "    print(a,b,c,d,e,f,g)\n",
    "    "
   ]
  },
  {
   "cell_type": "code",
   "execution_count": 27,
   "id": "d4e1eac3",
   "metadata": {},
   "outputs": [
    {
     "name": "stdout",
     "output_type": "stream",
     "text": [
      "12.566370614359172\n"
     ]
    }
   ],
   "source": [
    "#4  Consider the following method for converting milliseconds into days: \n",
    "#// converts milliseconds to days def toDays(millis):      return millis / 1000.0 / 60.0 / 60.0 / 24.0 \n",
    " \n",
    "#Write a similar method named area that takes as a parameter the radius of a circle and that returns the area of the circle. For example, the call  area(2.0);  \n",
    "#should return  \n",
    "#12.566370614359172.  \n",
    "#Recall that area can be computed as π times the radius squared and that Python has a constant called math.pi \n",
    "import math\n",
    "\n",
    "def area(radius):\n",
    "    return math.pi * radius ** 2\n",
    "\n",
    "# Example usage:\n",
    "radius = 2.0\n",
    "result = area(radius)\n",
    "print(result)\n"
   ]
  },
  {
   "cell_type": "code",
   "execution_count": 28,
   "id": "356d4d59",
   "metadata": {},
   "outputs": [
    {
     "name": "stdout",
     "output_type": "stream",
     "text": [
      "1\n",
      "22\n",
      "333\n",
      "4444\n",
      "55555\n",
      "666666\n",
      "7777777\n"
     ]
    }
   ],
   "source": [
    "#5Write a program to produce the following output using for loops. Then use a class constant to make it possible to change the number of lines in the figure. \n",
    "#1 \n",
    "#22\n",
    "#333 \n",
    "#4444 \n",
    "#55555 \n",
    "#666666\n",
    "#7777777 \n",
    "\n",
    "class Figure:\n",
    "    NUM_LINES = 7  \n",
    "    \n",
    "    @classmethod\n",
    "    def print_figure(cls):\n",
    "        for i in range(1, cls.NUM_LINES + 1):\n",
    "            for j in range(i):\n",
    "                print(i, end=\"\")\n",
    "            print()\n",
    "Figure.print_figure()\n"
   ]
  },
  {
   "cell_type": "code",
   "execution_count": 29,
   "id": "4fdb03a0",
   "metadata": {},
   "outputs": [
    {
     "name": "stdout",
     "output_type": "stream",
     "text": [
      "33.0\n",
      "50.0\n"
     ]
    }
   ],
   "source": [
    "#6 Write a method named pay that accepts two parameters: a real number for a TA's salary, and an integer for the number of hours the TA worked this week. The method should return how much money to pay the TA. For example, the call  \n",
    "#pay(5.50, 6)  \n",
    "#should return  \n",
    "#33.0.  \n",
    "#The TA should receive \"overtime\" pay of 1 ½ normal salary for any hours above 8. For example, the call pay(4.00, 11) should return (4.00 * 8) + (6.00 * 3) or 50.0.  \n",
    "\n",
    "def pay(salary, hours_worked):\n",
    "    normal_hours = min(8, hours_worked)\n",
    "    overtime_hours = max(0, hours_worked - 8)\n",
    "    overtime_rate = 1.5\n",
    "\n",
    "    total_payment = (normal_hours * salary) + (overtime_hours * salary * overtime_rate)\n",
    "    return total_payment\n",
    "\n",
    "\n",
    "result = pay(5.50, 6)\n",
    "print(result)  \n",
    "\n",
    "result = pay(4.00, 11)\n",
    "print(result)  "
   ]
  },
  {
   "cell_type": "code",
   "execution_count": null,
   "id": "10acb703",
   "metadata": {},
   "outputs": [],
   "source": [
    "#7\n",
    "low = int(input(\"low? \"))\n",
    "high = int(input(\"high? \"))\n",
    "sum_result = 0\n",
    "\n",
    "for i in range(low, high):\n",
    "    sum_result += i\n",
    "\n",
    "print(\"sum = \", sum_result)"
   ]
  },
  {
   "cell_type": "code",
   "execution_count": null,
   "id": "5adc2430",
   "metadata": {},
   "outputs": [],
   "source": [
    "#8\n",
    "total_sum = 0\n",
    "\n",
    "while True:\n",
    "    user_input = input(\"Enter a number (type 0 to stop): \")\n",
    "    \n",
    "    if user_input == '0':\n",
    "        break\n",
    "    \n",
    "    try:\n",
    "        number = float(user_input)\n",
    "        total_sum += number\n",
    "    except ValueError:\n",
    "        print(\"Invalid input. Please enter a valid number.\")\n",
    "\n",
    "print(\"Sum of the numbers: \", total_sum)"
   ]
  },
  {
   "cell_type": "code",
   "execution_count": null,
   "id": "cf8efe70",
   "metadata": {},
   "outputs": [],
   "source": [
    "#9\n",
    "total_sum = 0\n",
    "\n",
    "while True:\n",
    "    user_input = input(\"Enter a number (type -1 to stop): \")\n",
    "    \n",
    "    if user_input == '-1':\n",
    "        break\n",
    "    \n",
    "    try:\n",
    "        number = float(user_input)\n",
    "        total_sum += number\n",
    "    except ValueError:\n",
    "        print(\"Invalid input. Please enter a valid number.\")\n",
    "\n",
    "print(\"Sum of the numbers: \", total_sum)"
   ]
  },
  {
   "cell_type": "code",
   "execution_count": null,
   "id": "0c09a45f",
   "metadata": {},
   "outputs": [],
   "source": [
    "#10\n",
    "def repl(s, repetitions):\n",
    "    if repetitions <= 0:\n",
    "        return \"\"\n",
    "    else:\n",
    "        return s * repetitions\n",
    "\n",
    "\n",
    "result = repl(\"hello\", 3)\n",
    "print(result) "
   ]
  },
  {
   "cell_type": "code",
   "execution_count": null,
   "id": "9f2b43a4",
   "metadata": {},
   "outputs": [],
   "source": [
    "#11\n",
    "def printRange(start, end):\n",
    "    if start < end:\n",
    "        for i in range(start, end + 1):\n",
    "            print(i, end=\" \")\n",
    "    elif start > end:\n",
    "        for i in range(start, end - 1, -1):\n",
    "            print(i, end=\" \")\n",
    "    else:\n",
    "        print(start)\n",
    "\n",
    "\n",
    "printRange(2, 7)\n",
    "\n",
    "printRange(19, 11)\n",
    "\n",
    "printRange(5, 5)"
   ]
  },
  {
   "cell_type": "code",
   "execution_count": 1,
   "id": "15ffdc2d",
   "metadata": {},
   "outputs": [
    {
     "name": "stdout",
     "output_type": "stream",
     "text": [
      "1\n",
      "2\n",
      "3\n",
      "4\n",
      "5\n",
      "6\n",
      "7\n",
      "8\n",
      "9\n",
      "10\n"
     ]
    }
   ],
   "source": [
    "#classwork\n",
    "#Print the First 10 natural numbers\n",
    "\n",
    "for i in range(1,11):\n",
    "  print(i)"
   ]
  },
  {
   "cell_type": "code",
   "execution_count": 2,
   "id": "3a514d4d",
   "metadata": {},
   "outputs": [
    {
     "name": "stdout",
     "output_type": "stream",
     "text": [
      "====The First 10 Natural Numbers====\n"
     ]
    }
   ],
   "source": [
    "print(\"====The First 10 Natural Numbers====\")\n"
   ]
  },
  {
   "cell_type": "code",
   "execution_count": 3,
   "id": "4a4756ee",
   "metadata": {},
   "outputs": [
    {
     "name": "stdout",
     "output_type": "stream",
     "text": [
      "Number of digits: 3\n"
     ]
    }
   ],
   "source": [
    "# Count the total number of digits in a number\n",
    "number = str(123)\n",
    "print('Number of digits: ' + str(len(number)))\n"
   ]
  },
  {
   "cell_type": "code",
   "execution_count": 4,
   "id": "688799b6",
   "metadata": {},
   "outputs": [
    {
     "name": "stdout",
     "output_type": "stream",
     "text": [
      "enter your number: 56\n",
      "Number of digits: 2\n"
     ]
    }
   ],
   "source": [
    "number = int(input('enter your number: '))\n",
    "number = str(number)\n",
    "print ('Number of digits: ' + str(len(number)))"
   ]
  },
  {
   "cell_type": "code",
   "execution_count": 5,
   "id": "5f123593",
   "metadata": {},
   "outputs": [
    {
     "name": "stdout",
     "output_type": "stream",
     "text": [
      "Number of digits: 4\n"
     ]
    }
   ],
   "source": [
    "num = 3452 #(this is just a guess number)\n",
    "count = 0\n",
    "\n",
    "while num != 0:\n",
    "    num //= 10\n",
    "    count += 1\n",
    "\n",
    "print(\"Number of digits: \" + str(count))"
   ]
  },
  {
   "cell_type": "code",
   "execution_count": 6,
   "id": "921b13b9",
   "metadata": {},
   "outputs": [
    {
     "name": "stdout",
     "output_type": "stream",
     "text": [
      "1\n",
      "3\n",
      "5\n",
      "7\n",
      "9\n",
      "11\n",
      "13\n",
      "15\n",
      "17\n",
      "19\n"
     ]
    }
   ],
   "source": [
    "#Write a program to display all prime numbers within a range\n",
    "for x in range(1,20,2):\n",
    "  print(x)"
   ]
  },
  {
   "cell_type": "code",
   "execution_count": null,
   "id": "76cf401a",
   "metadata": {},
   "outputs": [],
   "source": [
    "#List 20 methods\n",
    "len()\n",
    "type()\n",
    "str()\n",
    "int()\n",
    "float()\n",
    "list()\n",
    "tuple()\n",
    "dict()\n",
    "set()\n",
    "max()\n",
    "min()\n",
    "sum()\n",
    "sorted()\n",
    "join()\n",
    "append()\n",
    "pop()\n",
    "replace()\n",
    "lower()\n",
    "upper()\n",
    "strip()"
   ]
  }
 ],
 "metadata": {
  "kernelspec": {
   "display_name": "Python 3 (ipykernel)",
   "language": "python",
   "name": "python3"
  },
  "language_info": {
   "codemirror_mode": {
    "name": "ipython",
    "version": 3
   },
   "file_extension": ".py",
   "mimetype": "text/x-python",
   "name": "python",
   "nbconvert_exporter": "python",
   "pygments_lexer": "ipython3",
   "version": "3.11.5"
  }
 },
 "nbformat": 4,
 "nbformat_minor": 5
}
